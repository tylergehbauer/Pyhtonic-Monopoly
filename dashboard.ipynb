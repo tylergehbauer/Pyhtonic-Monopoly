{
 "cells": [
  {
   "cell_type": "markdown",
   "metadata": {},
   "source": [
    "# San Francisco Rental Prices Dashboard\n",
    "\n",
    "In this notebook, you will compile the visualizations from the previous analysis into functions that can be used for a Panel dashboard."
   ]
  },
  {
   "cell_type": "code",
   "execution_count": 221,
   "metadata": {},
   "outputs": [],
   "source": [
    "# imports\n",
    "import panel as pn\n",
    "pn.extension('plotly')\n",
    "import plotly.express as px\n",
    "import pandas as pd\n",
    "import hvplot.pandas\n",
    "import matplotlib.pyplot as plt\n",
    "import os\n",
    "from pathlib import Path\n",
    "from dotenv import load_dotenv\n",
    "%matplotlib inline "
   ]
  },
  {
   "cell_type": "code",
   "execution_count": 222,
   "metadata": {},
   "outputs": [],
   "source": [
    "# Read the Mapbox API key\n",
    "load_dotenv()\n",
    "map_box_api = os.getenv(\"mapbox\")\n",
    "px.set_mapbox_access_token(map_box_api)\n",
    "#print(map_box_api)"
   ]
  },
  {
   "cell_type": "markdown",
   "metadata": {},
   "source": [
    "# Import Data"
   ]
  },
  {
   "cell_type": "code",
   "execution_count": 223,
   "metadata": {},
   "outputs": [],
   "source": [
    "# Import the necessary CSVs to Pandas DataFrames\n",
    "file_path = Path(\"Data/sfo_neighborhoods_census_data.csv\")\n",
    "sfo_data = pd.read_csv(file_path, index_col=\"year\")\n",
    "#sfo_data.head()\n",
    "\n",
    "file_path2 = Path(\"Data/neighborhoods_coordinates.csv\")\n",
    "location_data = pd.read_csv(file_path2)\n",
    "#location_data.head()\n",
    "\n",
    "#dataframe for top ten most expensive neighborhoods\n",
    "expensive_df = sfo_data.groupby(['neighborhood']).mean().reset_index()\n",
    "expensive_df = expensive_df.sort_values('sale_price_sqr_foot', ascending = False).reset_index()\n",
    "expensive_df = expensive_df.iloc[0:10]\n",
    "expensive_df.drop(columns=['index'], inplace=True) \n",
    "\n",
    "#dataframe for grouped by year and neighborhood\n",
    "new_df = sfo_data.groupby(['year','neighborhood']).mean().reset_index()\n",
    "\n",
    "#dataframe for mean value of each neighborhood\n",
    "neighborhood_mean_df = sfo_data.groupby(['neighborhood']).mean().reset_index()\n",
    "\n",
    "#concated dataframe for mapbox \n",
    "neighborhood_concat = pd.concat([location_data, neighborhood_mean_df], axis=1).dropna()\n",
    "neighborhood_concat.drop(columns=['neighborhood'], inplace=True)"
   ]
  },
  {
   "cell_type": "markdown",
   "metadata": {},
   "source": [
    "- - -"
   ]
  },
  {
   "cell_type": "markdown",
   "metadata": {},
   "source": [
    "## Panel Visualizations\n",
    "\n",
    "In this section, you will copy the code for each plot type from your analysis notebook and place it into separate functions that Panel can use to create panes for the dashboard. \n",
    "\n",
    "These functions will convert the plot object to a Panel pane.\n",
    "\n",
    "Be sure to include any DataFrame transformation/manipulation code required along with the plotting code.\n",
    "\n",
    "Return a Panel pane object from each function that can be used to build the dashboard.\n",
    "\n",
    "Note: Remove any `.show()` lines from the code. We want to return the plots instead of showing them. The Panel dashboard will then display the plots."
   ]
  },
  {
   "cell_type": "code",
   "execution_count": 246,
   "metadata": {},
   "outputs": [],
   "source": [
    "# Define Panel Visualization Functions\n",
    "\n",
    "#The notes from my rental analysis were mostly removed when I copy and pasted the code for these functions. \n",
    "#this was to keep these functions easier to edit without getting confused by the extra text. \n",
    "\n",
    "def housing_units_per_year():\n",
    "        \n",
    "    housing_units = (sfo_data['housing_units'].groupby(['year']).mean()) #could've put sfo_data.index\n",
    "    housing_units = housing_units.astype(int)\n",
    "    \n",
    "    fig_housing_units = plt.figure()\n",
    "    \n",
    "    housing_units_bar = housing_units.plot(kind = 'bar', ylabel = 'Housing Units', xlabel = 'Year',\n",
    "                   ylim = (housing_units.min()-housing_units.std(), housing_units.max()+housing_units.std()),\n",
    "                   title = 'Housing Units in San Francisco from 2010 to 2016')\n",
    "    \n",
    "    plt.close(fig_housing_units)\n",
    "    return  pn.pane.Matplotlib(fig_housing_units, tight=True)\n",
    "\n",
    "\n",
    "\n",
    "def average_gross_rent():\n",
    "    \"\"\"Average Gross Rent in San Francisco Per Year.\"\"\"\n",
    "    \n",
    "    housing_costs = (sfo_data[['sale_price_sqr_foot', 'gross_rent']].groupby(['year']).mean())\n",
    "    housing_costs = housing_costs.astype({'gross_rent' : int})\n",
    "    \n",
    "    \n",
    "    rent_plot = housing_costs.plot.line(y = 'gross_rent', color = 'red')\n",
    "    rent_plot.set_xlabel('Year', fontsize = 12)\n",
    "    rent_plot.set_ylabel('Gross Rent', fontsize = 12)\n",
    "    rent_plot.set_title('Average Gross Rent by Year', fontsize = 14, fontweight='bold')\n",
    "    rent_plot.set_xlim(2010,2016)\n",
    "   \n",
    "    \n",
    "    return rent_plot\n",
    "\n",
    "\n",
    "def average_sales_price():\n",
    "    \"\"\"Average Sales Price Per Year.\"\"\"\n",
    "    housing_costs = (sfo_data[['sale_price_sqr_foot', 'gross_rent']].groupby(['year']).mean())\n",
    "    housing_costs = housing_costs.astype({'gross_rent' : int})\n",
    "    \n",
    "    \n",
    "    \n",
    "    sqft_plot = housing_costs.plot(kind = 'line', y = 'sale_price_sqr_foot',\n",
    "                              title = 'Average Sales Price per SqFt by Year',\n",
    "                              xlabel = 'Year', ylabel = 'Price per SqFt',\n",
    "                              xlim = (2010,2016), color = 'purple')\n",
    "    return sqft_plot\n",
    "\n",
    "\n",
    "\n",
    "def average_price_by_neighborhood():\n",
    "    \"\"\"Average Prices by Neighborhood.\"\"\"\n",
    "    \n",
    "    avgprice_hvplot = new_df.hvplot(x = 'year', y = 'sale_price_sqr_foot', groupby = 'neighborhood',\n",
    "                               ylabel = 'Avg. Sale Price per Square Foot', xlabel = 'Year')\n",
    "    \n",
    "    \n",
    "    return avgprice_hvplot #average price per sq ft\n",
    "   \n",
    "\n",
    "def average_monthly_rent_by_neighborhood(): #I created this function to show this plot    \n",
    "    avg_monthly_rent_hvplot = new_df.hvplot(x = 'year', y = 'gross_rent', ylabel = 'Avg. Gross Rent Price per Year',\n",
    "                                      xlabel = 'Year', groupby = 'neighborhood')\n",
    "    \n",
    "    \n",
    "    return avg_monthly_rent_hvplot #average monthly rent\n",
    "\n",
    "\n",
    "\n",
    "def top_most_expensive_neighborhoods():\n",
    "    \"\"\"Top 10 Most Expensive Neighborhoods.\"\"\"\n",
    "    top_ten_expensive_plot = expensive_df.hvplot.bar(x = 'neighborhood',\n",
    "                                           y = 'sale_price_sqr_foot', title = 'Top 10 Expensive Neighborhoods in SFO',\n",
    "                                           rot = 90, height = 500, xlabel = 'Neighborhood',\n",
    "                                                 ylabel = 'Avg. Sale Price per Sqaure Foot')\n",
    "    return top_ten_expensive_plot\n",
    "   \n",
    "    \n",
    "\n",
    "\n",
    "def most_expensive_neighborhoods_rent_sales():\n",
    "    \"\"\"Comparison of Rent and Sales Prices of Most Expensive Neighborhoods.\"\"\"   \n",
    "    \n",
    "    columns = ['sale_price_sqr_foot', 'gross_rent']\n",
    "    comparison_barplot = new_df.hvplot.bar(groupby = 'neighborhood', y = columns, ylabel = 'Price',\n",
    "                                      rot = 90, x = 'year', height = 500)\n",
    "\n",
    "    return comparison_barplot\n",
    "\n",
    "    \n",
    "    \n",
    "def parallel_coordinates():\n",
    "    \"\"\"Parallel Coordinates Plot.\"\"\"\n",
    "\n",
    "    parallel_coordinates_plot = px.parallel_coordinates(expensive_df, color = 'sale_price_sqr_foot', \n",
    "                        title = 'Parallel Coordinates Analysis of Most Expensive San Francsico Neighborhoods',\n",
    "                       height = 500, width = 900)\n",
    "    return parallel_coordinates_plot\n",
    "\n",
    "\n",
    "\n",
    "def parallel_categories():\n",
    "    \"\"\"Parallel Categories Plot.\"\"\"\n",
    "    \n",
    "    parallel__categories_plot = px.parallel_categories(\n",
    "    expensive_df, #dataframe we created from the top 10 expensive neighborhoods to own\n",
    "    dimensions=[\"neighborhood\", \"sale_price_sqr_foot\", \"housing_units\", \"gross_rent\"], #these are the columns for plotted data\n",
    "    color=\"sale_price_sqr_foot\", \n",
    "    color_continuous_scale=px.colors.sequential.Inferno, #this was demo, changes color\n",
    "    labels={\n",
    "        \"neighborhood\": \"Neighborhood\",\n",
    "        \"sale_price_sqr_foot\": \"Sales price per Square Foot\",\n",
    "        \"housing_units\": \"Housing Units\",\n",
    "        \"gross_rent\": \"Gross Rent\"\n",
    "    },#relabels the dimiensions \n",
    "    title = 'Parallel Categories Analysis of Most Expensive San Francsico Neighborhoods',\n",
    "    height = 500,\n",
    "    width = 900)\n",
    "    return parallel__categories_plot\n",
    "\n",
    "\n",
    "def neighborhood_map():\n",
    "    \"\"\"Neighborhood Map.\"\"\"\n",
    "\n",
    "    mapbox_plot = px.scatter_mapbox(\n",
    "    neighborhood_concat,\n",
    "    lat=\"Lat\",\n",
    "    lon=\"Lon\",\n",
    "    color=\"gross_rent\", \n",
    "    size=\"sale_price_sqr_foot\",\n",
    "    height = 500,\n",
    "    zoom = 11,\n",
    "    title = 'Average Sale Price per Square Foot and Gross Rent in San Francisco')\n",
    "    \n",
    "    return mapbox_plot\n",
    "\n",
    "\n",
    "def sunburst():\n",
    "    \"\"\"Sunburst Plot.\"\"\"\n",
    "    df_expensive_neighborhoods_per_year = new_df[new_df[\"neighborhood\"].isin(expensive_df[\"neighborhood\"])]\n",
    "    sunburst_plot = px.sunburst(df_expensive_neighborhoods_per_year, path=['year', 'neighborhood'],\n",
    "                      values='sale_price_sqr_foot', color='gross_rent', height =700,\n",
    "                      color_continuous_scale='Blues',\n",
    "                     title = 'Cost Analysis of Most Expensive Neighborhoods in San Francsico per Year')\n",
    "    return sunburst_plot\n"
   ]
  },
  {
   "cell_type": "markdown",
   "metadata": {},
   "source": [
    "## Panel Dashboard\n",
    "\n",
    "In this section, you will combine all of the plots into a single dashboard view using Panel. Be creative with your dashboard design!"
   ]
  },
  {
   "cell_type": "code",
   "execution_count": 237,
   "metadata": {},
   "outputs": [
    {
     "data": {
      "image/png": "[encoded data removed]",
      "text/plain": [
       "<Figure size 432x288 with 1 Axes>"
      ]
     },
     "metadata": {
      "needs_background": "light"
     },
     "output_type": "display_data"
    },
    {
     "data": {
      "image/png": "[encoded data removed]",
      "text/plain": [
       "<Figure size 432x288 with 1 Axes>"
      ]
     },
     "metadata": {
      "needs_background": "light"
     },
     "output_type": "display_data"
    }
   ],
   "source": [
    "# Create a Title for the Dashboard\n",
    "#source below helped me create this:\n",
    "#https://medium.com/analytics-vidhya/how-to-create-an-interactive-dashboard-in-python-using-holoviz-panel-2de350b6d8df\n",
    "dashboard_title = '# Real Estate Analysis of San Francisco from 2010 to 2016'\n",
    "dashboard_description = \"This is a place holder description\"\n",
    "\n",
    "# Create a tab layout for the dashboard\n",
    "yearly_market_analysis = pn.Row(housing_units_per_year() ,average_gross_rent(),average_sales_price())\n",
    "\n",
    "neighborhood_monlthy_analysis = pn.Column(dashboard_title, average_price_by_neighborhood(), average_monthly_rent_by_neighborhood())\n",
    "\n",
    "expensive_neighborhood_analysis = pn.Column(dashboard_title,\n",
    "                                            top_most_expensive_neighborhoods(), most_expensive_neighborhoods_rent_sales())\n",
    "\n",
    "parallelplot_anaysis = pn.Column(dashboard_title, parallel_categories(), parallel_coordinates())\n",
    "\n",
    "neighborhood_tab = pn.Column(dashboard_title, dashboard_description,neighborhood_map())\n",
    "\n",
    "sunburst_tab = pn.Column(dashboard_title,sunburst())\n",
    "\n",
    "\n",
    "# Create the dashboard\n",
    "dashboard = pn.Tabs(\n",
    "    (\"Welcome\",neighborhood_tab), \n",
    "    (\"Yearly Market Analysis\",yearly_market_analysis),\n",
    "    (\"Monthly Neighborhood Analysis\",neighborhood_monlthy_analysis),\n",
    "    (\"Expensive Neighborhood Analysis\",expensive_neighborhood_analysis),\n",
    "    (\"Parallel Plots Analysis\",parallelplot_anaysis),\n",
    "    (\"Sunburst Analysis\",sunburst_tab)\n",
    ")"
   ]
  },
  {
   "cell_type": "markdown",
   "metadata": {},
   "source": [
    "## Serve the Panel Dashboard"
   ]
  },
  {
   "cell_type": "code",
   "execution_count": 239,
   "metadata": {},
   "outputs": [],
   "source": [
    "# Serve the# dashboard\n",
    "#dashboard.servable()"
   ]
  },
  {
   "cell_type": "markdown",
   "metadata": {},
   "source": [
    "# Debugging\n",
    "\n",
    "Note: Some of the Plotly express plots may not render in the notebook through the panel functions.\n",
    "\n",
    "However, you can test each plot by uncommenting the following code"
   ]
  },
  {
   "cell_type": "code",
   "execution_count": 215,
   "metadata": {},
   "outputs": [
    {
     "data": {},
     "metadata": {},
     "output_type": "display_data"
    },
    {
     "data": {
      "application/vnd.holoviews_exec.v0+json": "",
      "text/html": [
       "<div id='54777'>\n",
       "\n",
       "\n",
       "\n",
       "\n",
       "\n",
       "  <div class=\"bk-root\" id=\"9e117456-22d5-4af7-8b37-d41a41f62bfb\" data-root-id=\"54777\"></div>\n",
       "</div>\n",
       "<script type=\"application/javascript\">(function(root) {\n",
       "  function embed_document(root) {\n",
       "    var docs_json = {\"42138c29-086f-4197-ad5e-20974e317052\":{\"defs\":[{\"extends\":null,\"module\":null,\"name\":\"ReactiveHTML1\",\"overrides\":[],\"properties\":[]},{\"extends\":null,\"module\":null,\"name\":\"FlexBox1\",\"overrides\":[],\"properties\":[{\"default\":\"flex-start\",\"kind\":null,\"name\":\"align_content\"},{\"default\":\"flex-start\",\"kind\":null,\"name\":\"align_items\"},{\"default\":\"row\",\"kind\":null,\"name\":\"flex_direction\"},{\"default\":\"wrap\",\"kind\":null,\"name\":\"flex_wrap\"},{\"default\":\"flex-start\",\"kind\":null,\"name\":\"justify_content\"}]},{\"extends\":null,\"module\":null,\"name\":\"TemplateActions1\",\"overrides\":[],\"properties\":[{\"default\":0,\"kind\":null,\"name\":\"open_modal\"},{\"default\":0,\"kind\":null,\"name\":\"close_modal\"}]},{\"extends\":null,\"module\":null,\"name\":\"MaterialTemplateActions1\",\"overrides\":[],\"properties\":[{\"default\":0,\"kind\":null,\"name\":\"open_modal\"},{\"default\":0,\"kind\":null,\"name\":\"close_modal\"}]}],\"roots\":{\"references\":[{\"attributes\":{\"height\":294,\"margin\":[5,5,5,5],\"name\":\"Matplotlib47243\",\"text\":\"&lt;img src=&quot;data:image/png;base64,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&quot; width=&quot;408px&quot; height=&quot;294px&quot; alt=&quot;&quot;&gt;&lt;/img&gt;\",\"width\":408},\"id\":\"54777\",\"type\":\"panel.models.markup.HTML\"},{\"attributes\":{\"client_comm_id\":\"bdc5ac5238974478ab8dce0b5b32616b\",\"comm_id\":\"b38232fa58874bc08eec8cd35a50bdd9\",\"plot_id\":\"54777\"},\"id\":\"54778\",\"type\":\"panel.models.comm_manager.CommManager\"}],\"root_ids\":[\"54777\",\"54778\"]},\"title\":\"Bokeh Application\",\"version\":\"2.4.2\"}};\n",
       "    var render_items = [{\"docid\":\"42138c29-086f-4197-ad5e-20974e317052\",\"root_ids\":[\"54777\"],\"roots\":{\"54777\":\"9e117456-22d5-4af7-8b37-d41a41f62bfb\"}}];\n",
       "    root.Bokeh.embed.embed_items_notebook(docs_json, render_items);\n",
       "  }\n",
       "  if (root.Bokeh !== undefined && root.Bokeh.Panel !== undefined && ( root['Plotly'] !== undefined)) {\n",
       "    embed_document(root);\n",
       "  } else {\n",
       "    var attempts = 0;\n",
       "    var timer = setInterval(function(root) {\n",
       "      if (root.Bokeh !== undefined && root.Bokeh.Panel !== undefined && (root['Plotly'] !== undefined)) {\n",
       "        clearInterval(timer);\n",
       "        embed_document(root);\n",
       "      } else if (document.readyState == \"complete\") {\n",
       "        attempts++;\n",
       "        if (attempts > 200) {\n",
       "          clearInterval(timer);\n",
       "          console.log(\"Bokeh: ERROR: Unable to run BokehJS code because BokehJS library is missing\");\n",
       "        }\n",
       "      }\n",
       "    }, 25, root)\n",
       "  }\n",
       "})(window);</script>"
      ],
      "text/plain": [
       "Matplotlib(Figure, tight=True)"
      ]
     },
     "execution_count": 215,
     "metadata": {
      "application/vnd.holoviews_exec.v0+json": {
       "id": "54777"
      }
     },
     "output_type": "execute_result"
    }
   ],
   "source": [
    "housing_units_per_year()"
   ]
  },
  {
   "cell_type": "code",
   "execution_count": 240,
   "metadata": {},
   "outputs": [
    {
     "data": {
      "text/plain": [
       "<AxesSubplot:title={'center':'Average Gross Rent by Year'}, xlabel='Year', ylabel='Gross Rent'>"
      ]
     },
     "execution_count": 240,
     "metadata": {},
     "output_type": "execute_result"
    },
    {
     "data": {
      "image/png": "[encoded data removed]",
      "text/plain": [
       "<Figure size 432x288 with 1 Axes>"
      ]
     },
     "metadata": {
      "needs_background": "light"
     },
     "output_type": "display_data"
    }
   ],
   "source": [
    "average_gross_rent()"
   ]
  },
  {
   "cell_type": "code",
   "execution_count": 241,
   "metadata": {},
   "outputs": [
    {
     "data": {
      "text/plain": [
       "<AxesSubplot:title={'center':'Average Sales Price per SqFt by Year'}, xlabel='Year', ylabel='Price per SqFt'>"
      ]
     },
     "execution_count": 241,
     "metadata": {},
     "output_type": "execute_result"
    },
    {
     "data": {
      "image/png": "[encoded data removed]",
      "text/plain": [
       "<Figure size 432x288 with 1 Axes>"
      ]
     },
     "metadata": {
      "needs_background": "light"
     },
     "output_type": "display_data"
    }
   ],
   "source": [
    "average_sales_price()"
   ]
  },
  {
   "cell_type": "code",
   "execution_count": 245,
   "metadata": {},
   "outputs": [],
   "source": [
    "# average_price_by_neighborhood()"
   ]
  },
  {
   "cell_type": "code",
   "execution_count": 244,
   "metadata": {},
   "outputs": [],
   "source": [
    "#top_most_expensive_neighborhoods()"
   ]
  },
  {
   "cell_type": "code",
   "execution_count": 243,
   "metadata": {},
   "outputs": [],
   "source": [
    "#most_expensive_neighborhoods_rent_sales()"
   ]
  },
  {
   "cell_type": "code",
   "execution_count": 113,
   "metadata": {},
   "outputs": [],
   "source": [
    "# neighborhood_map().show()"
   ]
  },
  {
   "cell_type": "code",
   "execution_count": 79,
   "metadata": {},
   "outputs": [],
   "source": [
    "# parallel_categories()"
   ]
  },
  {
   "cell_type": "code",
   "execution_count": 80,
   "metadata": {},
   "outputs": [],
   "source": [
    " #parallel_coordinates()"
   ]
  },
  {
   "cell_type": "code",
   "execution_count": 81,
   "metadata": {},
   "outputs": [],
   "source": [
    "#sunburst()"
   ]
  }
 ],
 "metadata": {
  "file_extension": ".py",
  "kernelspec": {
   "display_name": "Python [conda env:pyvizenv] *",
   "language": "python",
   "name": "conda-env-pyvizenv-py"
  },
  "language_info": {
   "codemirror_mode": {
    "name": "ipython",
    "version": 3
   },
   "file_extension": ".py",
   "mimetype": "text/x-python",
   "name": "python",
   "nbconvert_exporter": "python",
   "pygments_lexer": "ipython3",
   "version": "3.7.11"
  },
  "mimetype": "text/x-python",
  "name": "python",
  "npconvert_exporter": "python",
  "pygments_lexer": "ipython3",
  "version": 3
 },
 "nbformat": 4,
 "nbformat_minor": 4
}
