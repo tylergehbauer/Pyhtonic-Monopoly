{
 "cells": [
  {
   "cell_type": "code",
   "execution_count": null,
   "id": "6032055e",
   "metadata": {},
   "outputs": [],
   "source": [
    "    \n",
    "    housing_units = (sfo_data['housing_units'] \n",
    "                        .groupby(['year']) \n",
    "                        .mean()\n",
    "                        )\n",
    "    housing_units = housing_units.astype(int)\n",
    "    housing_units_bar = housing_units.plot(kind = 'bar', ylabel = 'Housing Units', xlabel = 'Year',\n",
    "                   ylim = (housing_units.min()-housing_units.std(), housing_units.max()+housing_units.std()),\n",
    "                   title = 'Housing Units in San Francisco from 2010 to 2016')\n",
    "    return  pn.pane.Matplotlib(housing_units_bar)"
   ]
  },
  {
   "cell_type": "code",
   "execution_count": null,
   "id": "eb6231bb",
   "metadata": {},
   "outputs": [],
   "source": [
    "def housing_units_per_year():\n",
    "    \"\"\"Housing Units Per Year.\"\"\"\n",
    "    \n",
    "    df_housing_units = sfo_data[\"housing_units\"].groupby(sfo_data.index).mean()\n",
    "    \n",
    "    fig_housing_units = plt.figure()\n",
    "    plot_housing_units = df_housing_units.plot.bar()\n",
    "    plot_housing_units.set_xlabel(\"Year\", fontsize=12)\n",
    "    plot_housing_units.set_ylabel(\"Housing Units\", fontsize=12)\n",
    "    plot_housing_units.set_title(\n",
    "        \"Housing Units in San Francisco from 2010 to 2016\", fontsize=14, fontweight=\"bold\"\n",
    "    )\n",
    "\n",
    "    # Optional Challenge: Use the min, max, and std to scale the y limits of the chart\n",
    "    housing_units_std = df_housing_units.std()\n",
    "    housing_units_min = min(df_housing_units)\n",
    "    housing_units_max = max(df_housing_units)\n",
    "\n",
    "    plot_housing_units.set_ylim(\n",
    "        housing_units_min - housing_units_std, housing_units_max + housing_units_std\n",
    "    )\n",
    "    plt.close(fig_housing_units)\n",
    "    return pn.pane.Matplotlib(fig_housing_units, tight=True)"
   ]
  },
  {
   "cell_type": "code",
   "execution_count": null,
   "id": "78cfb3e3",
   "metadata": {},
   "outputs": [],
   "source": [
    "    housing_costs = (sfo_data[['sale_price_sqr_foot', 'gross_rent']].groupby(['year']).mean())\n",
    "    housing_costs = housing_costs.astype({'gross_rent' : int})\n",
    "    \n",
    "    fig_gross_rent = plt.figure()\n",
    "    rent_plot = housing_cots.plot.line(y = 'gross_rent')\n",
    "    rent_plot.set_xlabel('Year', fontsize = 12)\n",
    "    rent_plot.set_ylabel('Gross Rent', fontsize = 12)\n",
    "    rent_plot.set_title('Average Gross Rent by Year', fontsize = 14, fontweight='bold')\n",
    "    rent_plot.set_xlim(2010,2016)\n",
    "    plt.close(fig_gross_rent)\n",
    "    return pn.pane.Matplotlib(fig_gross_rent, tight=True)\n",
    "    \n",
    "    housing_costs.plot(kind = 'line', y = 'gross_rent',\n",
    "                              title = 'Average Gross Rent by Year',\n",
    "                              xlabel = 'Year', ylabel = 'Gross Rent',\n",
    "                              xlim = (2010,2016), color = 'red')\n",
    "   "
   ]
  },
  {
   "cell_type": "code",
   "execution_count": null,
   "id": "4b75c9a2",
   "metadata": {},
   "outputs": [],
   "source": []
  }
 ],
 "metadata": {
  "kernelspec": {
   "display_name": "Python 3 (ipykernel)",
   "language": "python",
   "name": "python3"
  },
  "language_info": {
   "codemirror_mode": {
    "name": "ipython",
    "version": 3
   },
   "file_extension": ".py",
   "mimetype": "text/x-python",
   "name": "python",
   "nbconvert_exporter": "python",
   "pygments_lexer": "ipython3",
   "version": "3.7.11"
  }
 },
 "nbformat": 4,
 "nbformat_minor": 5
}
